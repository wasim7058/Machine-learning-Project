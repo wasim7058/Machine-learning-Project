{
  "cells": [
    {
      "cell_type": "code",
      "execution_count": 21,
      "metadata": {
        "id": "cLgKcxSHQjmy"
      },
      "outputs": [],
      "source": [
        "import numpy as np\n",
        "import pandas as pd\n",
        "import matplotlib.pyplot as plt\n",
        "from sklearn.preprocessing import MinMaxScaler\n",
        "from keras.models import Sequential\n",
        "from keras.layers import Dense,LSTM,Dropout"
      ]
    },
    {
      "cell_type": "code",
      "execution_count": 18,
      "metadata": {
        "colab": {
          "base_uri": "https://localhost:8080/",
          "height": 206
        },
        "id": "yPK6jG3XQjnC",
        "outputId": "a569c832-75d3-4d27-a8da-d70ca50bf10a"
      },
      "outputs": [
        {
          "output_type": "execute_result",
          "data": {
            "text/plain": [
              "       Date    Open    High     Low   Close      Volume\n",
              "0  1/3/2012  325.25  332.83  324.97  663.59   7,380,500\n",
              "1  1/4/2012  331.27  333.87  329.08  666.45   5,749,400\n",
              "2  1/5/2012  329.83  330.75  326.89  657.21   6,590,300\n",
              "3  1/6/2012  328.34  328.77  323.68  648.24   5,405,900\n",
              "4  1/9/2012  322.04  322.29  309.46  620.76  11,688,800"
            ],
            "text/html": [
              "\n",
              "  <div id=\"df-50ef271b-571d-4364-a7a5-e19ef8c0276b\" class=\"colab-df-container\">\n",
              "    <div>\n",
              "<style scoped>\n",
              "    .dataframe tbody tr th:only-of-type {\n",
              "        vertical-align: middle;\n",
              "    }\n",
              "\n",
              "    .dataframe tbody tr th {\n",
              "        vertical-align: top;\n",
              "    }\n",
              "\n",
              "    .dataframe thead th {\n",
              "        text-align: right;\n",
              "    }\n",
              "</style>\n",
              "<table border=\"1\" class=\"dataframe\">\n",
              "  <thead>\n",
              "    <tr style=\"text-align: right;\">\n",
              "      <th></th>\n",
              "      <th>Date</th>\n",
              "      <th>Open</th>\n",
              "      <th>High</th>\n",
              "      <th>Low</th>\n",
              "      <th>Close</th>\n",
              "      <th>Volume</th>\n",
              "    </tr>\n",
              "  </thead>\n",
              "  <tbody>\n",
              "    <tr>\n",
              "      <th>0</th>\n",
              "      <td>1/3/2012</td>\n",
              "      <td>325.25</td>\n",
              "      <td>332.83</td>\n",
              "      <td>324.97</td>\n",
              "      <td>663.59</td>\n",
              "      <td>7,380,500</td>\n",
              "    </tr>\n",
              "    <tr>\n",
              "      <th>1</th>\n",
              "      <td>1/4/2012</td>\n",
              "      <td>331.27</td>\n",
              "      <td>333.87</td>\n",
              "      <td>329.08</td>\n",
              "      <td>666.45</td>\n",
              "      <td>5,749,400</td>\n",
              "    </tr>\n",
              "    <tr>\n",
              "      <th>2</th>\n",
              "      <td>1/5/2012</td>\n",
              "      <td>329.83</td>\n",
              "      <td>330.75</td>\n",
              "      <td>326.89</td>\n",
              "      <td>657.21</td>\n",
              "      <td>6,590,300</td>\n",
              "    </tr>\n",
              "    <tr>\n",
              "      <th>3</th>\n",
              "      <td>1/6/2012</td>\n",
              "      <td>328.34</td>\n",
              "      <td>328.77</td>\n",
              "      <td>323.68</td>\n",
              "      <td>648.24</td>\n",
              "      <td>5,405,900</td>\n",
              "    </tr>\n",
              "    <tr>\n",
              "      <th>4</th>\n",
              "      <td>1/9/2012</td>\n",
              "      <td>322.04</td>\n",
              "      <td>322.29</td>\n",
              "      <td>309.46</td>\n",
              "      <td>620.76</td>\n",
              "      <td>11,688,800</td>\n",
              "    </tr>\n",
              "  </tbody>\n",
              "</table>\n",
              "</div>\n",
              "    <div class=\"colab-df-buttons\">\n",
              "\n",
              "  <div class=\"colab-df-container\">\n",
              "    <button class=\"colab-df-convert\" onclick=\"convertToInteractive('df-50ef271b-571d-4364-a7a5-e19ef8c0276b')\"\n",
              "            title=\"Convert this dataframe to an interactive table.\"\n",
              "            style=\"display:none;\">\n",
              "\n",
              "  <svg xmlns=\"http://www.w3.org/2000/svg\" height=\"24px\" viewBox=\"0 -960 960 960\">\n",
              "    <path d=\"M120-120v-720h720v720H120Zm60-500h600v-160H180v160Zm220 220h160v-160H400v160Zm0 220h160v-160H400v160ZM180-400h160v-160H180v160Zm440 0h160v-160H620v160ZM180-180h160v-160H180v160Zm440 0h160v-160H620v160Z\"/>\n",
              "  </svg>\n",
              "    </button>\n",
              "\n",
              "  <style>\n",
              "    .colab-df-container {\n",
              "      display:flex;\n",
              "      gap: 12px;\n",
              "    }\n",
              "\n",
              "    .colab-df-convert {\n",
              "      background-color: #E8F0FE;\n",
              "      border: none;\n",
              "      border-radius: 50%;\n",
              "      cursor: pointer;\n",
              "      display: none;\n",
              "      fill: #1967D2;\n",
              "      height: 32px;\n",
              "      padding: 0 0 0 0;\n",
              "      width: 32px;\n",
              "    }\n",
              "\n",
              "    .colab-df-convert:hover {\n",
              "      background-color: #E2EBFA;\n",
              "      box-shadow: 0px 1px 2px rgba(60, 64, 67, 0.3), 0px 1px 3px 1px rgba(60, 64, 67, 0.15);\n",
              "      fill: #174EA6;\n",
              "    }\n",
              "\n",
              "    .colab-df-buttons div {\n",
              "      margin-bottom: 4px;\n",
              "    }\n",
              "\n",
              "    [theme=dark] .colab-df-convert {\n",
              "      background-color: #3B4455;\n",
              "      fill: #D2E3FC;\n",
              "    }\n",
              "\n",
              "    [theme=dark] .colab-df-convert:hover {\n",
              "      background-color: #434B5C;\n",
              "      box-shadow: 0px 1px 3px 1px rgba(0, 0, 0, 0.15);\n",
              "      filter: drop-shadow(0px 1px 2px rgba(0, 0, 0, 0.3));\n",
              "      fill: #FFFFFF;\n",
              "    }\n",
              "  </style>\n",
              "\n",
              "    <script>\n",
              "      const buttonEl =\n",
              "        document.querySelector('#df-50ef271b-571d-4364-a7a5-e19ef8c0276b button.colab-df-convert');\n",
              "      buttonEl.style.display =\n",
              "        google.colab.kernel.accessAllowed ? 'block' : 'none';\n",
              "\n",
              "      async function convertToInteractive(key) {\n",
              "        const element = document.querySelector('#df-50ef271b-571d-4364-a7a5-e19ef8c0276b');\n",
              "        const dataTable =\n",
              "          await google.colab.kernel.invokeFunction('convertToInteractive',\n",
              "                                                    [key], {});\n",
              "        if (!dataTable) return;\n",
              "\n",
              "        const docLinkHtml = 'Like what you see? Visit the ' +\n",
              "          '<a target=\"_blank\" href=https://colab.research.google.com/notebooks/data_table.ipynb>data table notebook</a>'\n",
              "          + ' to learn more about interactive tables.';\n",
              "        element.innerHTML = '';\n",
              "        dataTable['output_type'] = 'display_data';\n",
              "        await google.colab.output.renderOutput(dataTable, element);\n",
              "        const docLink = document.createElement('div');\n",
              "        docLink.innerHTML = docLinkHtml;\n",
              "        element.appendChild(docLink);\n",
              "      }\n",
              "    </script>\n",
              "  </div>\n",
              "\n",
              "\n",
              "<div id=\"df-be5932fa-e889-4acd-92fa-11af6c31985a\">\n",
              "  <button class=\"colab-df-quickchart\" onclick=\"quickchart('df-be5932fa-e889-4acd-92fa-11af6c31985a')\"\n",
              "            title=\"Suggest charts\"\n",
              "            style=\"display:none;\">\n",
              "\n",
              "<svg xmlns=\"http://www.w3.org/2000/svg\" height=\"24px\"viewBox=\"0 0 24 24\"\n",
              "     width=\"24px\">\n",
              "    <g>\n",
              "        <path d=\"M19 3H5c-1.1 0-2 .9-2 2v14c0 1.1.9 2 2 2h14c1.1 0 2-.9 2-2V5c0-1.1-.9-2-2-2zM9 17H7v-7h2v7zm4 0h-2V7h2v10zm4 0h-2v-4h2v4z\"/>\n",
              "    </g>\n",
              "</svg>\n",
              "  </button>\n",
              "\n",
              "<style>\n",
              "  .colab-df-quickchart {\n",
              "      --bg-color: #E8F0FE;\n",
              "      --fill-color: #1967D2;\n",
              "      --hover-bg-color: #E2EBFA;\n",
              "      --hover-fill-color: #174EA6;\n",
              "      --disabled-fill-color: #AAA;\n",
              "      --disabled-bg-color: #DDD;\n",
              "  }\n",
              "\n",
              "  [theme=dark] .colab-df-quickchart {\n",
              "      --bg-color: #3B4455;\n",
              "      --fill-color: #D2E3FC;\n",
              "      --hover-bg-color: #434B5C;\n",
              "      --hover-fill-color: #FFFFFF;\n",
              "      --disabled-bg-color: #3B4455;\n",
              "      --disabled-fill-color: #666;\n",
              "  }\n",
              "\n",
              "  .colab-df-quickchart {\n",
              "    background-color: var(--bg-color);\n",
              "    border: none;\n",
              "    border-radius: 50%;\n",
              "    cursor: pointer;\n",
              "    display: none;\n",
              "    fill: var(--fill-color);\n",
              "    height: 32px;\n",
              "    padding: 0;\n",
              "    width: 32px;\n",
              "  }\n",
              "\n",
              "  .colab-df-quickchart:hover {\n",
              "    background-color: var(--hover-bg-color);\n",
              "    box-shadow: 0 1px 2px rgba(60, 64, 67, 0.3), 0 1px 3px 1px rgba(60, 64, 67, 0.15);\n",
              "    fill: var(--button-hover-fill-color);\n",
              "  }\n",
              "\n",
              "  .colab-df-quickchart-complete:disabled,\n",
              "  .colab-df-quickchart-complete:disabled:hover {\n",
              "    background-color: var(--disabled-bg-color);\n",
              "    fill: var(--disabled-fill-color);\n",
              "    box-shadow: none;\n",
              "  }\n",
              "\n",
              "  .colab-df-spinner {\n",
              "    border: 2px solid var(--fill-color);\n",
              "    border-color: transparent;\n",
              "    border-bottom-color: var(--fill-color);\n",
              "    animation:\n",
              "      spin 1s steps(1) infinite;\n",
              "  }\n",
              "\n",
              "  @keyframes spin {\n",
              "    0% {\n",
              "      border-color: transparent;\n",
              "      border-bottom-color: var(--fill-color);\n",
              "      border-left-color: var(--fill-color);\n",
              "    }\n",
              "    20% {\n",
              "      border-color: transparent;\n",
              "      border-left-color: var(--fill-color);\n",
              "      border-top-color: var(--fill-color);\n",
              "    }\n",
              "    30% {\n",
              "      border-color: transparent;\n",
              "      border-left-color: var(--fill-color);\n",
              "      border-top-color: var(--fill-color);\n",
              "      border-right-color: var(--fill-color);\n",
              "    }\n",
              "    40% {\n",
              "      border-color: transparent;\n",
              "      border-right-color: var(--fill-color);\n",
              "      border-top-color: var(--fill-color);\n",
              "    }\n",
              "    60% {\n",
              "      border-color: transparent;\n",
              "      border-right-color: var(--fill-color);\n",
              "    }\n",
              "    80% {\n",
              "      border-color: transparent;\n",
              "      border-right-color: var(--fill-color);\n",
              "      border-bottom-color: var(--fill-color);\n",
              "    }\n",
              "    90% {\n",
              "      border-color: transparent;\n",
              "      border-bottom-color: var(--fill-color);\n",
              "    }\n",
              "  }\n",
              "</style>\n",
              "\n",
              "  <script>\n",
              "    async function quickchart(key) {\n",
              "      const quickchartButtonEl =\n",
              "        document.querySelector('#' + key + ' button');\n",
              "      quickchartButtonEl.disabled = true;  // To prevent multiple clicks.\n",
              "      quickchartButtonEl.classList.add('colab-df-spinner');\n",
              "      try {\n",
              "        const charts = await google.colab.kernel.invokeFunction(\n",
              "            'suggestCharts', [key], {});\n",
              "      } catch (error) {\n",
              "        console.error('Error during call to suggestCharts:', error);\n",
              "      }\n",
              "      quickchartButtonEl.classList.remove('colab-df-spinner');\n",
              "      quickchartButtonEl.classList.add('colab-df-quickchart-complete');\n",
              "    }\n",
              "    (() => {\n",
              "      let quickchartButtonEl =\n",
              "        document.querySelector('#df-be5932fa-e889-4acd-92fa-11af6c31985a button');\n",
              "      quickchartButtonEl.style.display =\n",
              "        google.colab.kernel.accessAllowed ? 'block' : 'none';\n",
              "    })();\n",
              "  </script>\n",
              "</div>\n",
              "\n",
              "    </div>\n",
              "  </div>\n"
            ]
          },
          "metadata": {},
          "execution_count": 18
        }
      ],
      "source": [
        "data = pd.read_csv('/content/sample_data/Google_train_data.csv')\n",
        "data.head()"
      ]
    },
    {
      "cell_type": "code",
      "source": [
        "data.isnull().sum()"
      ],
      "metadata": {
        "colab": {
          "base_uri": "https://localhost:8080/"
        },
        "id": "5YbllO13xxnu",
        "outputId": "848fee5b-0c09-410a-b7cc-9298138f8dd2"
      },
      "execution_count": 19,
      "outputs": [
        {
          "output_type": "execute_result",
          "data": {
            "text/plain": [
              "Date      0\n",
              "Open      0\n",
              "High      0\n",
              "Low       0\n",
              "Close     0\n",
              "Volume    0\n",
              "dtype: int64"
            ]
          },
          "metadata": {},
          "execution_count": 19
        }
      ]
    },
    {
      "cell_type": "code",
      "execution_count": 3,
      "metadata": {
        "colab": {
          "base_uri": "https://localhost:8080/"
        },
        "id": "8wpKyHqDQjnF",
        "outputId": "f62b26e9-2ad2-4c3c-a589-d7c55eed2af3"
      },
      "outputs": [
        {
          "output_type": "stream",
          "name": "stdout",
          "text": [
            "<class 'pandas.core.frame.DataFrame'>\n",
            "RangeIndex: 1258 entries, 0 to 1257\n",
            "Data columns (total 6 columns):\n",
            " #   Column  Non-Null Count  Dtype  \n",
            "---  ------  --------------  -----  \n",
            " 0   Date    1258 non-null   object \n",
            " 1   Open    1258 non-null   float64\n",
            " 2   High    1258 non-null   float64\n",
            " 3   Low     1258 non-null   float64\n",
            " 4   Close   1258 non-null   object \n",
            " 5   Volume  1258 non-null   object \n",
            "dtypes: float64(3), object(3)\n",
            "memory usage: 59.1+ KB\n"
          ]
        }
      ],
      "source": [
        "data.info()"
      ]
    },
    {
      "cell_type": "code",
      "execution_count": 4,
      "metadata": {
        "id": "-x9TvRICQjnH"
      },
      "outputs": [],
      "source": [
        "data[\"Close\"]=pd.to_numeric(data.Close,errors='coerce')\n",
        "data = data.dropna()\n",
        "trainData = data.iloc[:,4:5].values"
      ]
    },
    {
      "cell_type": "code",
      "execution_count": 20,
      "metadata": {
        "colab": {
          "base_uri": "https://localhost:8080/"
        },
        "id": "0ZWBsuDGQjnJ",
        "outputId": "056ee33c-7caf-4253-cec9-8fe0dd910088"
      },
      "outputs": [
        {
          "output_type": "stream",
          "name": "stdout",
          "text": [
            "<class 'pandas.core.frame.DataFrame'>\n",
            "RangeIndex: 1258 entries, 0 to 1257\n",
            "Data columns (total 6 columns):\n",
            " #   Column  Non-Null Count  Dtype  \n",
            "---  ------  --------------  -----  \n",
            " 0   Date    1258 non-null   object \n",
            " 1   Open    1258 non-null   float64\n",
            " 2   High    1258 non-null   float64\n",
            " 3   Low     1258 non-null   float64\n",
            " 4   Close   1258 non-null   object \n",
            " 5   Volume  1258 non-null   object \n",
            "dtypes: float64(3), object(3)\n",
            "memory usage: 59.1+ KB\n"
          ]
        }
      ],
      "source": [
        "data.info()"
      ]
    },
    {
      "cell_type": "code",
      "execution_count": 6,
      "metadata": {
        "colab": {
          "base_uri": "https://localhost:8080/"
        },
        "id": "CbpUEAkKQjnK",
        "outputId": "e596b53e-e918-4ba4-8338-57673071780c"
      },
      "outputs": [
        {
          "output_type": "execute_result",
          "data": {
            "text/plain": [
              "(1149, 1)"
            ]
          },
          "metadata": {},
          "execution_count": 6
        }
      ],
      "source": [
        "sc = MinMaxScaler(feature_range=(0,1))\n",
        "trainData = sc.fit_transform(trainData)\n",
        "trainData.shape"
      ]
    },
    {
      "cell_type": "code",
      "execution_count": 7,
      "metadata": {
        "id": "mCM1AaYvQjnM"
      },
      "outputs": [],
      "source": [
        "X_train = []\n",
        "y_train = []\n",
        "\n",
        "for i in range (60,1149): #60 : timestep // 1149 : length of the data\n",
        "    X_train.append(trainData[i-60:i,0])\n",
        "    y_train.append(trainData[i,0])\n",
        "\n",
        "X_train,y_train = np.array(X_train),np.array(y_train)"
      ]
    },
    {
      "cell_type": "code",
      "execution_count": 8,
      "metadata": {
        "colab": {
          "base_uri": "https://localhost:8080/"
        },
        "id": "ogxXbHXgQjnO",
        "outputId": "4037a2ae-d4a6-4d7f-b236-a4710f9df656"
      },
      "outputs": [
        {
          "output_type": "execute_result",
          "data": {
            "text/plain": [
              "(1089, 60, 1)"
            ]
          },
          "metadata": {},
          "execution_count": 8
        }
      ],
      "source": [
        "X_train = np.reshape(X_train,(X_train.shape[0],X_train.shape[1],1)) #adding the batch_size axis\n",
        "X_train.shape"
      ]
    },
    {
      "cell_type": "code",
      "execution_count": 9,
      "metadata": {
        "id": "c19SP7vNQjnQ"
      },
      "outputs": [],
      "source": [
        "model = Sequential()\n",
        "\n",
        "model.add(LSTM(units=100, return_sequences = True, input_shape =(X_train.shape[1],1)))\n",
        "model.add(Dropout(0.2))\n",
        "\n",
        "model.add(LSTM(units=100, return_sequences = True))\n",
        "model.add(Dropout(0.2))\n",
        "\n",
        "model.add(LSTM(units=100, return_sequences = True))\n",
        "model.add(Dropout(0.2))\n",
        "\n",
        "model.add(LSTM(units=100, return_sequences = False))\n",
        "model.add(Dropout(0.2))\n",
        "\n",
        "model.add(Dense(units =1))\n",
        "model.compile(optimizer='adam',loss=\"mean_squared_error\")"
      ]
    },
    {
      "cell_type": "code",
      "execution_count": 10,
      "metadata": {
        "colab": {
          "base_uri": "https://localhost:8080/"
        },
        "id": "Jzg0wYFvQjnT",
        "outputId": "0bb9d507-dfef-4f71-d791-0c09549dc5a5"
      },
      "outputs": [
        {
          "output_type": "stream",
          "name": "stdout",
          "text": [
            "Epoch 1/20\n",
            "35/35 - 16s - loss: 0.0334 - 16s/epoch - 463ms/step\n",
            "Epoch 2/20\n",
            "35/35 - 7s - loss: 0.0110 - 7s/epoch - 190ms/step\n",
            "Epoch 3/20\n",
            "35/35 - 7s - loss: 0.0098 - 7s/epoch - 211ms/step\n",
            "Epoch 4/20\n",
            "35/35 - 7s - loss: 0.0083 - 7s/epoch - 190ms/step\n",
            "Epoch 5/20\n",
            "35/35 - 8s - loss: 0.0069 - 8s/epoch - 234ms/step\n",
            "Epoch 6/20\n",
            "35/35 - 6s - loss: 0.0077 - 6s/epoch - 180ms/step\n",
            "Epoch 7/20\n",
            "35/35 - 8s - loss: 0.0065 - 8s/epoch - 217ms/step\n",
            "Epoch 8/20\n",
            "35/35 - 6s - loss: 0.0064 - 6s/epoch - 180ms/step\n",
            "Epoch 9/20\n",
            "35/35 - 8s - loss: 0.0075 - 8s/epoch - 217ms/step\n",
            "Epoch 10/20\n",
            "35/35 - 6s - loss: 0.0055 - 6s/epoch - 181ms/step\n",
            "Epoch 11/20\n",
            "35/35 - 10s - loss: 0.0058 - 10s/epoch - 284ms/step\n",
            "Epoch 12/20\n",
            "35/35 - 8s - loss: 0.0056 - 8s/epoch - 221ms/step\n",
            "Epoch 13/20\n",
            "35/35 - 7s - loss: 0.0063 - 7s/epoch - 209ms/step\n",
            "Epoch 14/20\n",
            "35/35 - 7s - loss: 0.0058 - 7s/epoch - 186ms/step\n",
            "Epoch 15/20\n",
            "35/35 - 7s - loss: 0.0055 - 7s/epoch - 210ms/step\n",
            "Epoch 16/20\n",
            "35/35 - 7s - loss: 0.0052 - 7s/epoch - 186ms/step\n",
            "Epoch 17/20\n",
            "35/35 - 7s - loss: 0.0049 - 7s/epoch - 205ms/step\n",
            "Epoch 18/20\n",
            "35/35 - 7s - loss: 0.0046 - 7s/epoch - 187ms/step\n",
            "Epoch 19/20\n",
            "35/35 - 7s - loss: 0.0048 - 7s/epoch - 211ms/step\n",
            "Epoch 20/20\n",
            "35/35 - 7s - loss: 0.0049 - 7s/epoch - 214ms/step\n"
          ]
        }
      ],
      "source": [
        "hist = model.fit(X_train, y_train, epochs = 5, batch_size = 32, verbose=2)"
      ]
    },
    {
      "cell_type": "code",
      "execution_count": 24,
      "metadata": {
        "colab": {
          "base_uri": "https://localhost:8080/",
          "height": 472
        },
        "id": "AYkZDOucQjnV",
        "outputId": "c07a3710-3a2d-42c8-ef26-152662b7487e"
      },
      "outputs": [
        {
          "output_type": "display_data",
          "data": {
            "text/plain": [
              "<Figure size 640x480 with 1 Axes>"
            ],
            "image/png": "[encoded data removed]"
          },
          "metadata": {}
        }
      ],
      "source": [
        "plt.plot( hist.history['loss'] )\n",
        "plt.title( 'Training model loss' )\n",
        "plt.ylabel( 'loss' )\n",
        "plt.xlabel( 'epoch' )\n",
        "plt.legend( ['train'], loc='upper left' )\n",
        "plt.show( )"
      ]
    },
    {
      "cell_type": "code",
      "execution_count": 25,
      "metadata": {
        "colab": {
          "base_uri": "https://localhost:8080/"
        },
        "id": "da50adQSQjnW",
        "outputId": "66b24a08-e4d7-404e-fea8-35d77d9381db"
      },
      "outputs": [
        {
          "output_type": "execute_result",
          "data": {
            "text/plain": [
              "(192, 60, 1)"
            ]
          },
          "metadata": {},
          "execution_count": 25
        }
      ],
      "source": [
        "testData = pd.read_csv('/content/sample_data/Google_test_data.csv')\n",
        "testData[\"Close\"]=pd.to_numeric(testData.Close,errors='coerce')\n",
        "testData = testData.dropna()\n",
        "testData = testData.iloc[:,4:5]\n",
        "y_test = testData.iloc[60:,0:].values\n",
        "\n",
        "\n",
        "#input array for the model\n",
        "inputClosing = testData.iloc[:,0:].values\n",
        "inputClosing_scaled = sc.transform(inputClosing)\n",
        "inputClosing_scaled.shape\n",
        "X_test = []\n",
        "length = len(testData)\n",
        "timestep = 60\n",
        "for i in range(timestep,length):\n",
        "    X_test.append(inputClosing_scaled[i-timestep:i,0])\n",
        "X_test = np.array(X_test)\n",
        "X_test = np.reshape(X_test,(X_test.shape[0],X_test.shape[1],1))\n",
        "X_test.shape"
      ]
    },
    {
      "cell_type": "code",
      "execution_count": 14,
      "metadata": {
        "colab": {
          "base_uri": "https://localhost:8080/"
        },
        "id": "Ss66BIw-QjnX",
        "outputId": "9aa9667f-9850-4b33-d9e9-45eec46a47e4"
      },
      "outputs": [
        {
          "output_type": "stream",
          "name": "stdout",
          "text": [
            "6/6 [==============================] - 2s 99ms/step\n"
          ]
        },
        {
          "output_type": "execute_result",
          "data": {
            "text/plain": [
              "array([[1.3425963],\n",
              "       [1.345537 ],\n",
              "       [1.3577052],\n",
              "       [1.375636 ],\n",
              "       [1.3893319],\n",
              "       [1.3876048],\n",
              "       [1.3716317],\n",
              "       [1.3508253],\n",
              "       [1.3380395],\n",
              "       [1.3354267],\n",
              "       [1.3293171],\n",
              "       [1.3183292],\n",
              "       [1.3084267],\n",
              "       [1.299185 ],\n",
              "       [1.2977821],\n",
              "       [1.3033323],\n",
              "       [1.3234497],\n",
              "       [1.354269 ],\n",
              "       [1.3885493],\n",
              "       [1.4215233],\n",
              "       [1.4327989],\n",
              "       [1.4264487],\n",
              "       [1.4020792],\n",
              "       [1.3693602],\n",
              "       [1.3412925],\n",
              "       [1.3269622],\n",
              "       [1.325908 ],\n",
              "       [1.3282895],\n",
              "       [1.3226252],\n",
              "       [1.3119992],\n",
              "       [1.2994486],\n",
              "       [1.2848074],\n",
              "       [1.2627689],\n",
              "       [1.2357061],\n",
              "       [1.2253399],\n",
              "       [1.236786 ],\n",
              "       [1.261588 ],\n",
              "       [1.2888186],\n",
              "       [1.3134105],\n",
              "       [1.3242229],\n",
              "       [1.3349473],\n",
              "       [1.3487839],\n",
              "       [1.3657819],\n",
              "       [1.3819569],\n",
              "       [1.392768 ],\n",
              "       [1.3934646],\n",
              "       [1.3823448],\n",
              "       [1.3728588],\n",
              "       [1.3710742],\n",
              "       [1.3787462],\n",
              "       [1.3943135],\n",
              "       [1.4049685],\n",
              "       [1.4081299],\n",
              "       [1.404911 ],\n",
              "       [1.4030358],\n",
              "       [1.399076 ],\n",
              "       [1.3903197],\n",
              "       [1.3862988],\n",
              "       [1.3965935],\n",
              "       [1.4166163],\n",
              "       [1.4447446],\n",
              "       [1.4776272],\n",
              "       [1.4995255],\n",
              "       [1.5016052],\n",
              "       [1.4868704],\n",
              "       [1.4640745],\n",
              "       [1.4489012],\n",
              "       [1.4449743],\n",
              "       [1.4501566],\n",
              "       [1.4575157],\n",
              "       [1.4645747],\n",
              "       [1.468604 ],\n",
              "       [1.4646856],\n",
              "       [1.4584417],\n",
              "       [1.453094 ],\n",
              "       [1.4516128],\n",
              "       [1.4539684],\n",
              "       [1.4595413],\n",
              "       [1.4722141],\n",
              "       [1.4910058],\n",
              "       [1.5148807],\n",
              "       [1.5371634],\n",
              "       [1.5489635],\n",
              "       [1.5493232],\n",
              "       [1.5516165],\n",
              "       [1.563687 ],\n",
              "       [1.5822787],\n",
              "       [1.598674 ],\n",
              "       [1.6081725],\n",
              "       [1.6104039],\n",
              "       [1.6118271],\n",
              "       [1.6216557],\n",
              "       [1.6399403],\n",
              "       [1.6526675],\n",
              "       [1.6520509],\n",
              "       [1.6384039],\n",
              "       [1.6151323],\n",
              "       [1.5886985],\n",
              "       [1.5672909],\n",
              "       [1.5608304],\n",
              "       [1.5695802],\n",
              "       [1.5885484],\n",
              "       [1.6126496],\n",
              "       [1.6328343],\n",
              "       [1.644157 ],\n",
              "       [1.644932 ],\n",
              "       [1.6399373],\n",
              "       [1.6339447],\n",
              "       [1.6333076],\n",
              "       [1.6386313],\n",
              "       [1.6487035],\n",
              "       [1.6625645],\n",
              "       [1.676355 ],\n",
              "       [1.6906673],\n",
              "       [1.7079495],\n",
              "       [1.7222098],\n",
              "       [1.7328227],\n",
              "       [1.7417765],\n",
              "       [1.7533026],\n",
              "       [1.7342625],\n",
              "       [1.6842955],\n",
              "       [1.620865 ],\n",
              "       [1.5701747],\n",
              "       [1.5434797],\n",
              "       [1.5348366],\n",
              "       [1.5353503],\n",
              "       [1.5385891],\n",
              "       [1.5426232],\n",
              "       [1.537179 ],\n",
              "       [1.5205455],\n",
              "       [1.5118216],\n",
              "       [1.5196624],\n",
              "       [1.5347689],\n",
              "       [1.5425876],\n",
              "       [1.5435573],\n",
              "       [1.5409365],\n",
              "       [1.5343153],\n",
              "       [1.5237046],\n",
              "       [1.5121225],\n",
              "       [1.497269 ],\n",
              "       [1.4820824],\n",
              "       [1.4656215],\n",
              "       [1.4312241],\n",
              "       [1.3895555],\n",
              "       [1.3492631],\n",
              "       [1.3185778],\n",
              "       [1.3067888],\n",
              "       [1.3163197],\n",
              "       [1.3395581],\n",
              "       [1.3661848],\n",
              "       [1.3917688],\n",
              "       [1.4114734],\n",
              "       [1.4253119],\n",
              "       [1.4365684],\n",
              "       [1.4452134],\n",
              "       [1.4531732],\n",
              "       [1.4628508],\n",
              "       [1.4710704],\n",
              "       [1.4677657],\n",
              "       [1.4521936],\n",
              "       [1.4293792],\n",
              "       [1.4076939],\n",
              "       [1.3968083],\n",
              "       [1.401146 ],\n",
              "       [1.4191918],\n",
              "       [1.4461803],\n",
              "       [1.4697665],\n",
              "       [1.4865413],\n",
              "       [1.500211 ],\n",
              "       [1.5122651],\n",
              "       [1.5220416],\n",
              "       [1.5300364],\n",
              "       [1.5365796],\n",
              "       [1.5390329],\n",
              "       [1.5374696],\n",
              "       [1.5286912],\n",
              "       [1.5177044],\n",
              "       [1.5105972],\n",
              "       [1.5063124],\n",
              "       [1.5023955],\n",
              "       [1.5326471],\n",
              "       [1.587972 ],\n",
              "       [1.6437505],\n",
              "       [1.6814376],\n",
              "       [1.6947284],\n",
              "       [1.6844838],\n",
              "       [1.6482164],\n",
              "       [1.605106 ],\n",
              "       [1.5698997],\n",
              "       [1.5579239],\n",
              "       [1.5617659],\n",
              "       [1.5690564]], dtype=float32)"
            ]
          },
          "metadata": {},
          "execution_count": 14
        }
      ],
      "source": [
        "y_pred = model.predict(X_test)\n",
        "y_pred"
      ]
    },
    {
      "cell_type": "code",
      "execution_count": 15,
      "metadata": {
        "id": "EjXwqPMjQjnY"
      },
      "outputs": [],
      "source": [
        "predicted_price = sc.inverse_transform(y_pred)"
      ]
    },
    {
      "cell_type": "code",
      "execution_count": 17,
      "metadata": {
        "colab": {
          "base_uri": "https://localhost:8080/",
          "height": 472
        },
        "id": "7O04kP3RQjnZ",
        "outputId": "4b686a21-cc32-4dcc-94d1-a86de7b3f791"
      },
      "outputs": [
        {
          "output_type": "display_data",
          "data": {
            "text/plain": [
              "<Figure size 640x480 with 1 Axes>"
            ],
            "image/png": "[encoded data removed]"
          },
          "metadata": {}
        }
      ],
      "source": [
        "plt.plot(y_test, color = 'red', label = 'Actual Stock Price')\n",
        "plt.plot(predicted_price, color = 'green', label = 'Predicted Stock Price')\n",
        "plt.title('Google stock price prediction')\n",
        "plt.xlabel('Time')\n",
        "plt.ylabel('Stock Price')\n",
        "plt.legend()\n",
        "plt.show()"
      ]
    }
  ],
  "metadata": {
    "kernelspec": {
      "display_name": "Python 3",
      "language": "python",
      "name": "python3"
    },
    "language_info": {
      "codemirror_mode": {
        "name": "ipython",
        "version": 3
      },
      "file_extension": ".py",
      "mimetype": "text/x-python",
      "name": "python",
      "nbconvert_exporter": "python",
      "pygments_lexer": "ipython3",
      "version": "3.7.6"
    },
    "colab": {
      "provenance": []
    }
  },
  "nbformat": 4,
  "nbformat_minor": 0
}